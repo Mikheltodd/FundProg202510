{
  "nbformat": 4,
  "nbformat_minor": 0,
  "metadata": {
    "colab": {
      "private_outputs": true,
      "provenance": [],
      "authorship_tag": "ABX9TyO9MVwBJBEfluhRAGHgXG0H",
      "include_colab_link": true
    },
    "kernelspec": {
      "name": "python3",
      "display_name": "Python 3"
    },
    "language_info": {
      "name": "python"
    }
  },
  "cells": [
    {
      "cell_type": "markdown",
      "metadata": {
        "id": "view-in-github",
        "colab_type": "text"
      },
      "source": [
        "<a href=\"https://colab.research.google.com/github/Mikheltodd/FundProg202510/blob/main/FundProg202510.ipynb\" target=\"_parent\"><img src=\"https://colab.research.google.com/assets/colab-badge.svg\" alt=\"Open In Colab\"/></a>"
      ]
    },
    {
      "cell_type": "markdown",
      "source": [
        "# Fundamentos de Programación 202510\n",
        "\n",
        "__Docente:__ _Miguel Ortiz_"
      ],
      "metadata": {
        "id": "u80k7PQEZgDg"
      }
    },
    {
      "cell_type": "code",
      "execution_count": null,
      "metadata": {
        "id": "ja4T2O4KYuu5"
      },
      "outputs": [],
      "source": [
        "# Comentarios\n",
        "# Los comentarios no se ejecutan\n",
        "\n",
        "# Print\n",
        "print(\"Hola muchachos, bienvenidos a Python :)\")\n",
        "print(\"...\")\n",
        "print('A')\n",
        "print(3)\n",
        "print(2.54)\n",
        "print(True)"
      ]
    },
    {
      "cell_type": "code",
      "source": [
        "# Variables con Python\n",
        "\n",
        "name = \"Mikheltodd\"\n",
        "age = 34\n",
        "is_smart = False\n",
        "print(name)\n",
        "print(age)\n",
        "print(is_smart)"
      ],
      "metadata": {
        "id": "WsyVRaCQaezJ"
      },
      "execution_count": null,
      "outputs": []
    },
    {
      "cell_type": "code",
      "source": [
        "# Cálculos\n",
        "\n",
        "a = 5\n",
        "b = 7.0\n",
        "c = a + b\n",
        "c *= 3 # c = c * 3\n",
        "c /= 2\n",
        "c -= 4\n",
        "print(type(a))\n",
        "print(type(b))\n",
        "print(type(c))\n",
        "print(c)\n",
        "print(2 ** 64)"
      ],
      "metadata": {
        "id": "zx7H4zcTbsDm"
      },
      "execution_count": null,
      "outputs": []
    },
    {
      "cell_type": "code",
      "source": [
        "# Concatenación\n",
        "\n",
        "name = \"Miguel\"\n",
        "lastname = \"Ortiz\"\n",
        "age = 34\n",
        "print(name + \" \" + lastname)\n",
        "# print(\"My name is\", name, lastname, \"and I'm\", age, \"years old.\")\n",
        "phrase =  \"My name is \" + name + \" \" + lastname + \" and I'm \" + str(age) + \" years old.\"\n",
        "print(phrase)"
      ],
      "metadata": {
        "id": "i7yFc9NFcImL"
      },
      "execution_count": null,
      "outputs": []
    },
    {
      "cell_type": "code",
      "source": [
        "poem = \"\"\"\n",
        "Me gustas cuando callas porque estás como ausente,\n",
        "y me oyes desde lejos, y mi voz no te toca.\n",
        "Parece que los ojos se te hubieran volado\n",
        "y parece que un beso te cerrara la boca.\n",
        "\"\"\"\n",
        "print(poem)"
      ],
      "metadata": {
        "id": "eCi4175sehEQ"
      },
      "execution_count": null,
      "outputs": []
    },
    {
      "cell_type": "code",
      "source": [
        "# Entradas de Usuario\n",
        "\n",
        "name = input(\"¿Cuál es tu nombre? \")\n",
        "print(\"Hola\", name, \"mucho gusto en conocerte :)\")"
      ],
      "metadata": {
        "id": "7tkaNiRwfhCT"
      },
      "execution_count": null,
      "outputs": []
    },
    {
      "cell_type": "code",
      "source": [],
      "metadata": {
        "id": "n_iIIcGzgKGk"
      },
      "execution_count": null,
      "outputs": []
    }
  ]
}